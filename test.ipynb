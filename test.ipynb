{
 "cells": [
  {
   "cell_type": "code",
   "execution_count": 1,
   "id": "250945f4",
   "metadata": {},
   "outputs": [
    {
     "name": "stdout",
     "output_type": "stream",
     "text": [
      "Detected IPython. Loading juliacall extension. See https://juliapy.github.io/PythonCall.jl/stable/compat/#IPython\n",
      "<KeysViewHDF5 ['flux_vectors', 'kfkms', 'loo_error', 'params', 'zout']>\n",
      "<KeysViewHDF5 ['flux_vectors', 'kfkms', 'loo_error', 'params', 'zout']>\n"
     ]
    }
   ],
   "source": [
    "import time\n",
    "\n",
    "import numpy as np\n",
    "import matplotlib.pyplot as plt\n",
    "from typing import List\n",
    "import pysr\n",
    "import h5py\n",
    "import sympy\n",
    "import numpy as np\n",
    "from matplotlib import pyplot as plt\n",
    "from pysr import PySRRegressor\n",
    "from sklearn.model_selection import train_test_split\n",
    "from pysr_model import create_model\n",
    "from plotting import plot_predictions\n",
    "\n",
    "\n",
    "# Configure plot defaults\n",
    "plt.rcParams[\"axes.facecolor\"] = \"white\"\n",
    "plt.rcParams[\"grid.color\"] = \"#666666\"\n",
    "\n",
    "####### Set Input Arguments ########\n",
    "# This is where you set the args to your function.\n",
    "# Parameter name\n",
    "param_name = \"tau0\"\n",
    "# take z = 3.6\n",
    "z = 2.8\n",
    "\n",
    "# Plotting\n",
    "quantile_low = 0.16  # quantile for parameter value to fix\n",
    "quantile_high = 0.84  # quantile for parameter value to fix\n",
    "####################################\n",
    "\n",
    "param_dict = {\n",
    "    \"dtau0\": 0,\n",
    "    \"tau0\": 1,\n",
    "    \"ns\": 2,\n",
    "    \"Ap\": 3,\n",
    "    \"herei\": 4,\n",
    "    \"heref\": 5,\n",
    "    \"alphaq\": 6,\n",
    "    \"hub\": 7,\n",
    "    \"omegamh2\": 8,\n",
    "    \"hireionz\": 9,\n",
    "    \"bhfeedback\": 10,\n",
    "}\n",
    "param_idx = param_dict[param_name]  # index of the parameter in the params array\n",
    "\n",
    "# TODO: Probably also be careful about the filepath~\n",
    "with h5py.File(\n",
    "    \"../InferenceMultiFidelity/1pvar/lf_{}_npoints50_datacorrFalse.hdf5\".format(param_name), \"r\"\n",
    ") as file:\n",
    "    print(file.keys())\n",
    "\n",
    "    flux_vectors_low = file[\"flux_vectors\"][:]\n",
    "    kfkms_low = file[\"kfkms\"][:]\n",
    "    # kfmpc = file[\"kfmpc\"][:]\n",
    "    zout = file[\"zout\"][:]\n",
    "    resolution_low=np.full((1750,1),1536)\n",
    "\n",
    "    params_low = file[\"params\"][:]\n",
    "#kfkms.shape, flux_vectors.shape, zout.shape, params.shape\n",
    "\n",
    "with h5py.File(\n",
    "    \"../InferenceMultiFidelity/1pvar/hf_{}_npoints50_datacorrFalse.hdf5\".format(param_name), \"r\"\n",
    ") as file:\n",
    "    print(file.keys())\n",
    "\n",
    "    flux_vectors_hi = file[\"flux_vectors\"][:]\n",
    "    kfkms_hi = file[\"kfkms\"][:]\n",
    "    # kfmpc = file[\"kfmpc\"][:]\n",
    "    zout_hi = file[\"zout\"][:]\n",
    "    resolution_hi=np.full((1750,1),3072)\n",
    "    params_hi = file[\"params\"][:]\n",
    "\n",
    "zindex = np.where(zout == z)[0][0]  # index of z = 5\n",
    "\n",
    "# take z=3.6, and flatten the flux vectors, such that the dim=1 is p1d values per k and parameter\n",
    "flux_vectors_z_low = flux_vectors_low[:, zindex, :]\n",
    "flux_vectors_z_low = flux_vectors_z_low.flatten()[:, np.newaxis]  # add a new axis to make it 2D\n",
    "\n",
    "flux_vectors_z_hi = flux_vectors_hi[:, zindex, :]\n",
    "flux_vectors_z_hi = flux_vectors_z_hi.flatten()[:, np.newaxis]  # add a new axis to make it 2D\n",
    "\n",
    "# do the same for kfkms\n",
    "kfkms_z_low = kfkms_low[:, zindex, :]\n",
    "kfkms_z_low = kfkms_z_low.flatten()[:, np.newaxis]  # add a new axis to make it 2D\n",
    "\n",
    "params_values_low = params_low[:, param_idx]\n",
    "# repeat this for the number of kfkms\n",
    "params_values_low = np.repeat(params_values_low[:, np.newaxis], kfkms_low.shape[2], axis=1)\n",
    "params_values_low = params_values_low.flatten()[:, np.newaxis]  # add a new axis to make it 2D\n",
    "\n",
    "# Shapes: (1750, 1)\n",
    "X_param = params_values_low\n",
    "X_k = kfkms_z_low\n",
    "y = flux_vectors_z_low\n",
    "\n",
    "assert(y.shape == (1750, 1))\n",
    "# Concatenate inputs to form design matrix\n",
    "X = np.hstack([X_param, X_k])  # shape: (1750, 2)\n",
    "\n",
    "X_1 = np.hstack([X_param, X_k,resolution_low])  # shape: (1750, 3)\n",
    "assert(X.shape== (1750, 2))\n",
    "\n",
    "params_values_hi = params_low[:, param_idx]\n",
    "# repeat this for the number of kfkms\n",
    "params_values_hi = np.repeat(params_values_hi[:, np.newaxis], kfkms_low.shape[2], axis=1)\n",
    "params_values_hi = params_values_hi.flatten()[:, np.newaxis]  # add a new axis to make it 2D\n",
    "\n",
    "# Shapes: (1750, 1)\n",
    "X_param_hi = params_values_hi\n",
    "\n",
    "y_hi = flux_vectors_z_hi\n",
    "\n",
    "#normalization of y\n",
    "y_low_mean=np.mean(y, axis=0)\n",
    "y_low_std=np.std(y, axis=0)\n",
    "y_low_normalized=(y-y_low_mean)/y_low_std\n",
    "\n",
    "y_hi_mean=np.mean(y_hi, axis=0)\n",
    "y_hi_std=np.std(y_hi, axis=0)\n",
    "y_hi_normalized=(y_hi-y_low_mean)/y_low_std\n",
    "\n",
    "#stacking\n",
    "X2=np.hstack([X_param_hi, X_k])\n",
    "X_2=np.hstack([X_param_hi, X_k,resolution_hi])  # shape: (1750, 3)\n",
    "\n",
    "#normalization of x\n",
    "#X_1_normalized=X_1/(np.max(X_1,axis=0)-np.min(X_1,axis=0))\n",
    "#X_2_normalized=X_2/(np.max(X_2,axis=0)-np.min(X_2,axis=0))\n",
    "#THROWS ERROR, I BELIEVE BECAUSE OF DIVISION BY 0"
   ]
  },
  {
   "cell_type": "code",
   "execution_count": 2,
   "id": "8d2af6e8",
   "metadata": {},
   "outputs": [
    {
     "name": "stderr",
     "output_type": "stream",
     "text": [
      "/var/folders/y9/g2jj3nys17lfz6hmth5_mpth0000gn/T/ipykernel_2359/2045620130.py:1: RuntimeWarning: divide by zero encountered in divide\n",
      "  X_1_normalized=X_1/(np.max(X_1,axis=0)-np.min(X_1,axis=0))\n",
      "/var/folders/y9/g2jj3nys17lfz6hmth5_mpth0000gn/T/ipykernel_2359/2045620130.py:2: RuntimeWarning: divide by zero encountered in divide\n",
      "  X_2_normalized=X_2/(np.max(X_2,axis=0)-np.min(X_2,axis=0))\n"
     ]
    }
   ],
   "source": [
    "X_1_normalized=X_1/(np.max(X_1,axis=0)-np.min(X_1,axis=0))\n",
    "X_2_normalized=X_2/(np.max(X_2,axis=0)-np.min(X_2,axis=0))\n"
   ]
  },
  {
   "cell_type": "code",
   "execution_count": 4,
   "id": "2d59b498",
   "metadata": {},
   "outputs": [
    {
     "data": {
      "text/plain": [
       "array([0.4998  , 0.018428, 0.      ])"
      ]
     },
     "execution_count": 4,
     "metadata": {},
     "output_type": "execute_result"
    }
   ],
   "source": [
    "(np.max(X_1,axis=0)-np.min(X_1,axis=0))"
   ]
  },
  {
   "cell_type": "code",
   "execution_count": 10,
   "id": "a3d2c3ad",
   "metadata": {},
   "outputs": [
    {
     "name": "stdout",
     "output_type": "stream",
     "text": [
      "<KeysViewHDF5 ['flux_vectors', 'kfkms', 'loo_error', 'params', 'zout']>\n"
     ]
    },
    {
     "data": {
      "text/plain": [
       "(13, 35)"
      ]
     },
     "execution_count": 10,
     "metadata": {},
     "output_type": "execute_result"
    }
   ],
   "source": [
    "with h5py.File(\n",
    "    \"../InferenceMultiFidelity/1pvar/hf_{}_npoints50_datacorrFalse.hdf5\".format(param_name), \"r\"\n",
    ") as file:\n",
    "    print(file.keys())\n",
    "\n",
    "    flux_vectors_hi = file[\"flux_vectors\"][:]\n",
    "    kfkms_hi = file[\"kfkms\"][:]\n",
    "    # kfmpc = file[\"kfmpc\"][:]\n",
    "    zout_hi = file[\"zout\"][:]\n",
    "    resolution_hi=np.full((1750,1),3072)\n",
    "    params_hi = file[\"params\"][:]\n",
    "\n",
    "\n",
    "mean_flux_hi = np.mean(flux_vectors_hi, axis=0)\n",
    "mean_flux_hi.shape"
   ]
  },
  {
   "cell_type": "code",
   "execution_count": null,
   "id": "d9bfae22",
   "metadata": {},
   "outputs": [],
   "source": [
    "y_low_mean=np.mean(y, axis=0)\n"
   ]
  }
 ],
 "metadata": {
  "kernelspec": {
   "display_name": "base",
   "language": "python",
   "name": "python3"
  },
  "language_info": {
   "codemirror_mode": {
    "name": "ipython",
    "version": 3
   },
   "file_extension": ".py",
   "mimetype": "text/x-python",
   "name": "python",
   "nbconvert_exporter": "python",
   "pygments_lexer": "ipython3",
   "version": "3.11.4"
  }
 },
 "nbformat": 4,
 "nbformat_minor": 5
}
